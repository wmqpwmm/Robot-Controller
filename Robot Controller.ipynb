{
 "cells": [
  {
   "cell_type": "markdown",
   "metadata": {},
   "source": [
    "## 控制迷宫寻宝机器人\n",
    "\n",
    "在这个项目中，你将使用刚刚学到的知识，尝试根据要求，编写代码，来控制一个机器人，在模拟环境中行走，并找到目标宝藏。\n",
    "\n",
    "机器人所在的模拟环境中，会包含这样几个因素：机器人的起点、障碍物、宝藏箱。你的任务包括：\n",
    "\n",
    "1. 分析模拟环境的数据\n",
    "2. 控制机器人随机行动\n",
    "3. （可选）控制机器人走到终点\n",
    "\n",
    "\n",
    "* 一个良好的含有注释的代码，可以让你的程序可读性更高，尝试为你自己的代码添加相应的注释。"
   ]
  },
  {
   "cell_type": "markdown",
   "metadata": {},
   "source": [
    "---\n",
    "\n",
    "---\n",
    "\n",
    "## 第一节 分析模拟环境的数据\n",
    "\n",
    "首先，只有足够了解机器人所在的环境，我们的机器人才能成功找到目标宝藏，因此首先我们来对机器人所在环境的数据进行分析。在这个部分，会考察你对数据结构、控制流的了解。\n"
   ]
  },
  {
   "cell_type": "markdown",
   "metadata": {},
   "source": [
    "### 1.1 理解模拟环境数据的储存格式\n",
    "\n",
    "首先我们思考这样的问题：如何存储模拟环境的数据呢？\n",
    "\n",
    "我们将我们的模拟环境抽象成一个格子世界，每个格子按照坐标编号进行标记；每个格子中会有四个情况，分别为普通格子（可通行）、机器人的起点（可通行）、障碍物（不可通行）、宝藏箱（目标点）。例如，一个模拟环境就可以抽象成3行4列的格子世界，并按这按这样的方法进行存储：\n",
    "```\n",
    "environment = [[0,0,0,2], \n",
    "               [1,2,0,0],\n",
    "               [0,2,3,2]]\n",
    "```\n",
    "我们用了一个列表来保存虚拟世界的数据。外层列表中的每一个元素依然是一个列表，它代表模拟环境中每行的数据。而对于这个列表中的每个元素都是一个数，它们的含义是：\n",
    "- 0: 普通格子（可通行）\n",
    "- 1: 机器人的起点（可通行）\n",
    "- 2: 障碍物（不可通行）\n",
    "- 3: 宝藏箱（目标点）\n",
    "\n",
    "那么，根据上述的数据，这个迷宫的第二行第一列，是我们机器人的起点。\n",
    "\n",
    "__注：我们描述的迷宫的坐标位置（第一行第一列），和迷宫下标索引的值（如 `(0,0)`）是不一样的，请注意下标的问题。__\n",
    "\n",
    "\n",
    "如下的代码，使用了辅助函数，读取了模拟环境的数据，并保存在了 `env_data` 变量中。\n"
   ]
  },
  {
   "cell_type": "code",
   "execution_count": 1,
   "metadata": {},
   "outputs": [
    {
     "name": "stdout",
     "output_type": "stream",
     "text": [
      "maze-id 1-1569673817\n",
      "[[3, 2, 2, 2, 2, 2, 2, 2, 1],\n",
      " [0, 0, 2, 2, 2, 2, 2, 0, 0],\n",
      " [2, 0, 0, 2, 2, 2, 0, 0, 2],\n",
      " [2, 2, 0, 0, 2, 0, 0, 2, 2],\n",
      " [2, 2, 2, 0, 0, 0, 2, 2, 2]]\n"
     ]
    }
   ],
   "source": [
    "import helper\n",
    "\n",
    "env_data = helper.fetch_maze()"
   ]
  },
  {
   "cell_type": "markdown",
   "metadata": {},
   "source": [
    "---\n",
    "\n",
    "\n",
    "**任务1：**在如下代码中，请写代码获得这些值：\n",
    "\n",
    "1. 模拟环境的长和宽\n",
    "2. 模拟环境中第3行第6列元素"
   ]
  },
  {
   "cell_type": "code",
   "execution_count": 2,
   "metadata": {},
   "outputs": [
    {
     "name": "stdout",
     "output_type": "stream",
     "text": [
      "迷宫共有 5 行 9 列，第三行第六列的元素是 2\n"
     ]
    }
   ],
   "source": [
    "#TODO 1模拟环境的行数\n",
    "rows = len(env_data) \n",
    "\n",
    "#TODO 2模拟环境的列数\n",
    "columns = len(env_data[0]) \n",
    "\n",
    "#TODO 3取出模拟环境第三行第六列的元素\n",
    "row_3_col_6 = env_data[2][5] \n",
    "\n",
    "print(\"迷宫共有\", rows, \"行\", columns, \"列，第三行第六列的元素是\", row_3_col_6)"
   ]
  },
  {
   "cell_type": "markdown",
   "metadata": {
    "collapsed": true
   },
   "source": [
    "---\n",
    "\n",
    "## 1.2 分析模拟环境数据\n",
    "\n",
    "接着我们需要对模拟环境的中的数据进行分析。请根据如下的指示，计算相应的值。\n",
    "\n",
    "---\n",
    "\n",
    "**任务2：**在如下代码中，请计算模拟环境中，第一行和第三列的障碍物个数。\n",
    "\n",
    "提示：*可以用循环完成。*"
   ]
  },
  {
   "cell_type": "code",
   "execution_count": 3,
   "metadata": {},
   "outputs": [
    {
     "name": "stdout",
     "output_type": "stream",
     "text": [
      "迷宫中，第一行共有 7 个障碍物，第三列共有 3 个障碍物。\n"
     ]
    }
   ],
   "source": [
    "#TODO 4计算模拟环境中，第一行的的障碍物个数。\n",
    "number_of_barriers_row1 = env_data[0].count(2)\n",
    "\n",
    "#TODO 5计算模拟环境中，第三列的的障碍物个数。\n",
    "number_of_barriers_col3 = 0\n",
    "for i in range(len(env_data)):\n",
    "    if env_data[i][2] == 2:\n",
    "        number_of_barriers_col3 += 1\n",
    "\n",
    "print(\"迷宫中，第一行共有\", number_of_barriers_row1, \"个障碍物，第三列共有\", number_of_barriers_col3, \"个障碍物。\")"
   ]
  },
  {
   "cell_type": "code",
   "execution_count": 4,
   "metadata": {},
   "outputs": [
    {
     "name": "stderr",
     "output_type": "stream",
     "text": [
      ".\n",
      "----------------------------------------------------------------------\n",
      "Ran 1 test in 0.002s\n",
      "\n",
      "OK\n"
     ]
    }
   ],
   "source": [
    "%run -i -e test.py RobotControllortTestCase.test_cal_barriers"
   ]
  },
  {
   "cell_type": "markdown",
   "metadata": {},
   "source": [
    "---\n",
    "\n",
    "**任务3：**在如下代码中：\n",
    "\n",
    "1. 创建一个名为 `loc_map` 的字典，它有两个键值，分别为 `start` 和 `destination`，对应的值分别为起点和目标点的坐标，它们以如 `(0,0)` 的形式保存为元组。\n",
    "2. 从字典中取出 `start` 对应的值，保存在 `robot_current_loc` 对应的变量中，这个变量表示小车现在的位置。"
   ]
  },
  {
   "cell_type": "code",
   "execution_count": 5,
   "metadata": {
    "collapsed": true
   },
   "outputs": [],
   "source": [
    "loc_map = {'start':(0,8),'destination':(0,0)} #TODO 6按照上述要求创建字典\n",
    "\n",
    "robot_current_loc = loc_map['start'] #TODO 7保存机器人当前的位置"
   ]
  },
  {
   "cell_type": "code",
   "execution_count": 6,
   "metadata": {},
   "outputs": [
    {
     "name": "stderr",
     "output_type": "stream",
     "text": [
      ".\n",
      "----------------------------------------------------------------------\n",
      "Ran 1 test in 0.002s\n",
      "\n",
      "OK\n"
     ]
    }
   ],
   "source": [
    "%run -i -e test.py RobotControllortTestCase.test_cal_loc_map"
   ]
  },
  {
   "cell_type": "markdown",
   "metadata": {},
   "source": [
    "\n",
    "---\n",
    "\n",
    "---\n",
    "\n",
    "## 第二节 控制机器人随机漫步\n",
    "\n",
    "在这一步中，你需发出指令，控制机器人在环境中随机行动。它会考察你对控制流、调用函数的知识。"
   ]
  },
  {
   "cell_type": "markdown",
   "metadata": {},
   "source": [
    "\n",
    "\n",
    "## 2.1 控制机器人行动\n",
    "\n",
    "我们的机器人能够执行四个动作：向上走 `u`、向下走 `d`、向左走 `l`、向右走 `r`。但是，由于有障碍，很多时候机器人的行动并不能成功。所以在这里，你需要实现一个函数，来判断机器人在某个位置，执行某个移动动作是否可行。\n",
    "\n",
    "---\n",
    "\n",
    "**任务4：**在下方代码中，实现名为 `is_move_valid_special` 的函数，它有两个输入，分别为机器人所在的位置坐标 `loc`，以及即将执行的动作 `act`，如 `(1,1)` 及 `u`。接着它的返回是一个布尔值，表明小车在 `loc` 位置下，是否可以执行动作 `act`。\n",
    "\n",
    "\n",
    "提示1：*可以读取上方定义的 `env_data` 变量，来读取模拟环境的数据。*\n",
    "\n",
    "提示2：*在实现函数后，请删去下方的 `pass` 代码。*\n",
    "\n",
    "提示3：*我们需要处理边界的情况，即机器人走到了虚拟环境边界时，是不能够走出虚拟环境的。*"
   ]
  },
  {
   "cell_type": "code",
   "execution_count": 7,
   "metadata": {
    "collapsed": true
   },
   "outputs": [],
   "source": [
    "def is_move_valid_special(loc, act):\n",
    "    \"\"\"\n",
    "    Judge wether the robot can take action act\n",
    "    at location loc.\n",
    "    \n",
    "    Keyword arguments:\n",
    "    loc -- tuple, robots current location\n",
    "    act -- string, robots meant action\n",
    "    \"\"\"\n",
    "    bound_row = 4 \n",
    "    bound_col = 8\n",
    "    acr_dic = {'u':[-1,0], 'd':[1,0], 'l':[0,-1], 'r':[0,1]}#建立行为字典\n",
    "    new_loc = (int(loc[0] + acr_dic[act][0]), int(loc[1] + acr_dic[act][1]))#得到新的位置\n",
    "    if 0 <= new_loc[0] <= bound_row and 0<= new_loc[1] <= bound_col:#判断位置是否不可通行\n",
    "        result = env_data[new_loc[0]][new_loc[1]] != 2 \n",
    "    else:\n",
    "        result = False \n",
    "    return result\n",
    "    #TODO 8"
   ]
  },
  {
   "cell_type": "code",
   "execution_count": 8,
   "metadata": {},
   "outputs": [
    {
     "name": "stderr",
     "output_type": "stream",
     "text": [
      ".\n",
      "----------------------------------------------------------------------\n",
      "Ran 1 test in 0.001s\n",
      "\n",
      "OK\n"
     ]
    }
   ],
   "source": [
    "%run -i -e test.py RobotControllortTestCase.test_is_move_valid_special"
   ]
  },
  {
   "cell_type": "markdown",
   "metadata": {},
   "source": [
    "---\n",
    "**任务5：**在下方代码中，重新实现一个名为 `is_move_valid` 的函数，它有三个输入，分别为模拟环境的数据 `env_data`、机器人所在的位置坐标 `loc`、以及即将执行的动作 `act`。它的返回值与此前一样，是一个布尔值，表明小车在给定的虚拟环境中的 `loc` 位置下，是否可以执行动作 `act`。"
   ]
  },
  {
   "cell_type": "code",
   "execution_count": 9,
   "metadata": {
    "collapsed": true
   },
   "outputs": [],
   "source": [
    "def is_move_valid(env_data, loc, act):\n",
    "    \"\"\"\n",
    "    Judge wether the robot can take action act\n",
    "    at location loc.\n",
    "    \n",
    "    Keyword arguments:\n",
    "    env -- list, the environment data\n",
    "    loc -- tuple, robots current location\n",
    "    act -- string, robots meant action\n",
    "    \"\"\"\n",
    "    bound_row = len(env_data)-1 #环境边界\n",
    "    bound_col = len(env_data[0])-1\n",
    "    acr_dic = {'u':[-1,0], 'd':[1,0], 'l':[0,-1], 'r':[0,1]}#建立行为字典\n",
    "    loc_new = (int(loc[0] + acr_dic[act][0]), int(loc[1] + acr_dic[act][1]))#得到新的位置\n",
    "    if 0 <= loc_new[0] <= bound_row and 0<= loc_new[1] <= bound_col:#判断位置是否不可通行\n",
    "        result = env_data[loc_new[0]][loc_new[1]] != 2 \n",
    "    else:\n",
    "        result = False \n",
    "    return result\n",
    "    \n",
    "    #TODO 9\n",
    " "
   ]
  },
  {
   "cell_type": "code",
   "execution_count": 10,
   "metadata": {},
   "outputs": [
    {
     "name": "stderr",
     "output_type": "stream",
     "text": [
      ".\n",
      "----------------------------------------------------------------------\n",
      "Ran 1 test in 0.001s\n",
      "\n",
      "OK\n"
     ]
    }
   ],
   "source": [
    "%run -i -e test.py RobotControllortTestCase.test_is_move_valid"
   ]
  },
  {
   "cell_type": "markdown",
   "metadata": {},
   "source": [
    "---\n",
    "\n",
    "**任务6：**请回答：\n",
    "  1. 在任务4及任务5中的实现的两个函数中，`env_data` 这个变量有什么不同？\n",
    "  2. 调用``is_move_valid``函数，参数为``env_data_``、``loc_``、``act_``，如果在函数内修改``env_data``是否会改变``env_data_``的值？为什么？\n",
    "  \n",
    "提示：_可以尝试从变量作用域的角度回答该问题1。_\n",
    "\n",
    "\n",
    "提示：_可以尝试从可变类型变量和不可变类型变量的角度回答该问题2。_\n",
    "\n"
   ]
  },
  {
   "cell_type": "markdown",
   "metadata": {},
   "source": [
    "**回答：1.任务4中的env_data的作用域是全局作用域，任务5中的是局部作用域\n",
    "       2.如果在函数内修改env_data会改变env_data_的值，Python参数传递采用的是“传对象引用“的方式。如果函数收到的是一个可变对象（比如字典或者列表）的引用，就能修改对象的原始。如果函数收到的是一个不可变对象（比如数字、字符或者元组）的引用，就不能直接修改原始对象。env_data_为列表故如果在函数内修改env_data会改变env_data_的值"
   ]
  },
  {
   "cell_type": "markdown",
   "metadata": {},
   "source": [
    "---\n",
    "\n",
    "## 2.2 机器人可行动作\n",
    "\n",
    "---\n",
    "\n",
    "**任务7：**编写一个名为 `valid_actions` 的函数。它有两个输入，分别为虚拟环境的数据 `env_data`，以及机器人所在的位置 `loc`，输出是一个列表，表明机器人在这个位置所有的可行动作。\n",
    "\n",
    "提示：*可以尝试调用上方定义的`is_move_valid`函数。*\n"
   ]
  },
  {
   "cell_type": "code",
   "execution_count": 11,
   "metadata": {
    "collapsed": true
   },
   "outputs": [],
   "source": [
    "## TODO 10 从头定义、实现你的函数\n",
    "def valid_actions(env_data, loc):\n",
    "    act = ['u', 'd', 'l', 'r']\n",
    "    act_can = []\n",
    "    for a in act:\n",
    "        if is_move_valid(env_data, loc, a):\n",
    "            act_can.append(a)\n",
    "    return act_can"
   ]
  },
  {
   "cell_type": "code",
   "execution_count": 12,
   "metadata": {},
   "outputs": [
    {
     "name": "stderr",
     "output_type": "stream",
     "text": [
      ".\n",
      "----------------------------------------------------------------------\n",
      "Ran 1 test in 0.001s\n",
      "\n",
      "OK\n"
     ]
    }
   ],
   "source": [
    "%run -i -e test.py RobotControllortTestCase.test_valid_actions"
   ]
  },
  {
   "cell_type": "markdown",
   "metadata": {},
   "source": [
    "---\n",
    "\n",
    "## 2.3 移动机器人\n",
    "\n",
    "当机器人收到一个动作的时候，你机器人的位置应发生相应的变化。\n",
    "\n",
    "**任务8：**编写一个名为 `move_robot` 的函数，它有两个输入，分别为机器人当前所在的位置 `loc` 和即将执行的动作 `act`。接着会返回机器人执行动作之后的新位置 `new_loc`。"
   ]
  },
  {
   "cell_type": "code",
   "execution_count": 13,
   "metadata": {
    "collapsed": true
   },
   "outputs": [],
   "source": [
    "##TODO 11 从头定义、实现你的函数\n",
    "def move_robot(loc, act):\n",
    "    acr_dic = {'u':[-1,0], 'd':[1,0], 'l':[0,-1], 'r':[0,1]}\n",
    "    new_loc = (loc[0] + acr_dic[act][0], loc[1] + acr_dic[act][1])\n",
    "    return new_loc"
   ]
  },
  {
   "cell_type": "code",
   "execution_count": 14,
   "metadata": {},
   "outputs": [
    {
     "name": "stderr",
     "output_type": "stream",
     "text": [
      ".\n",
      "----------------------------------------------------------------------\n",
      "Ran 1 test in 0.001s\n",
      "\n",
      "OK\n"
     ]
    }
   ],
   "source": [
    "%run -i -e test.py RobotControllortTestCase.test_move_robot"
   ]
  },
  {
   "cell_type": "markdown",
   "metadata": {},
   "source": [
    "---\n",
    "\n",
    "## 2.4 随机移动机器人\n",
    "\n",
    "接着，我们尝试在虚拟环境中随机移动机器人，看看会有什么效果。\n",
    "\n",
    "**任务9：**编写一个名为 `random_choose_actions` 的函数，它有两个输入，分别为虚拟环境的数据 `env_data`，以及机器人所在的位置 `loc`。机器人会执行一个300次的循环，每次循环，他会执行以下任务：\n",
    "\n",
    "1. 利用上方定义的 `valid_actions` 函数，找出当前位置下，机器人可行的动作；\n",
    "2. 利用 `random` 库中的 `choice` 函数，从机器人可行的动作中，随机挑选出一个动作；\n",
    "3. 接着根据这个动作，利用上方定义的 `move_robot` 函数，来移动机器人，并更新机器人的位置；\n",
    "4. 当机器人走到终点时，输出“在第n个回合找到宝藏！”。\n",
    "\n",
    "提示：如果机器人无法在300个回合内找到宝藏的话，试试看增大这个数字，也许会有不错的效果 :P"
   ]
  },
  {
   "cell_type": "code",
   "execution_count": 15,
   "metadata": {
    "collapsed": true
   },
   "outputs": [],
   "source": [
    "##TODO 12 从头实现你的函数\n",
    "import random \n",
    "def random_choose_actions(env_data, loc):\n",
    "    n = 0\n",
    "    while n < 300 and env_data[loc[0]][loc[1]] != 3:\n",
    "        loc = move_robot(loc, random.choice(valid_actions(env_data, loc)))#更新位置\n",
    "        n += 1\n",
    "    if env_data[loc[0]][loc[1]] == 3:#判断是否达到终点并输出相应信息\n",
    "        print(\"在第{}个回合找到宝藏！\".format(n))\n",
    "    else:\n",
    "        print(\"未找到宝藏，请重新尝试\")"
   ]
  },
  {
   "cell_type": "code",
   "execution_count": 16,
   "metadata": {},
   "outputs": [
    {
     "name": "stdout",
     "output_type": "stream",
     "text": [
      "未找到宝藏，请重新尝试\n"
     ]
    }
   ],
   "source": [
    "# 运行\n",
    "random_choose_actions(env_data, robot_current_loc)"
   ]
  },
  {
   "cell_type": "markdown",
   "metadata": {},
   "source": [
    "\n",
    "---\n",
    "\n",
    "---\n",
    "\n",
    "## （可选）第三节 控制机器人走到终点\n",
    "\n",
    "## 3.1 控制机器人走到终点\n",
    "\n",
    "在这里，你将综合上述的知识，编码控制机器人走到终点。这个任务对刚刚入门的你来说可能有些挑战，所以它是一个选做题。\n",
    "\n",
    "**任务10**：尝试实现一个算法，能够对给定的模拟环境，输出机器人的行动策略，使之能够走到终点。\n",
    "\n",
    "提示：_你可以尝试参考：_\n",
    "* 深度/广度优先算法。\n",
    "    以及以下参考资料：\n",
    "    1. https://blog.csdn.net/raphealguo/article/details/7523411 \n",
    "    2. https://www.cnblogs.com/yupeng/p/3414736.html \n",
    "* A星算法。\n",
    "    以及以下参考资料：\n",
    "    1. https://baike.baidu.com/item/A%2A算法 \n",
    "    2. https://blog.csdn.net/hitwhylz/article/details/23089415"
   ]
  },
  {
   "cell_type": "code",
   "execution_count": 17,
   "metadata": {},
   "outputs": [
    {
     "name": "stdout",
     "output_type": "stream",
     "text": [
      "原始迷宫图:\n",
      " 3  2  2  2  2  2  2  2  1 \n",
      " 0  0  2  2  2  2  2  0  0 \n",
      " 2  0  0  2  2  2  0  0  2 \n",
      " 2  2  0  0  2  0  0  2  2 \n",
      " 2  2  2  0  0  0  2  2  2 \n",
      "\n",
      "\n",
      "行走路线图:\n",
      "16  0  0  0  0  0  0  0  2 \n",
      "15 14  0  0  0  0  0  2  1 \n",
      " 0 13 12  0  0  0  4  3  0 \n",
      " 0  0 11 10  0  6  5  0  0 \n",
      " 0  0  0  9  8  7  0  0  0 \n",
      "\n",
      "\n",
      "走出迷宫共需要16步\n",
      "\n",
      "最优路径是:  [[1, 8], [1, 7], [2, 7], [2, 6], [3, 6], [3, 5], [4, 5], [4, 4], [4, 3], [3, 3], [3, 2], [2, 2], [2, 1], [1, 1], [1, 0], [0, 0]]\n"
     ]
    }
   ],
   "source": [
    "#TODO 13 实现你的算法\n",
    "#参考代码https://www.cnblogs.com/fanghongbo/p/9991332.html\n",
    "class Node(object):\n",
    "    #初始化\n",
    "    def __init__(self, maze, start, end):\n",
    "        self.maze = maze\n",
    "        self.start = start\n",
    "        self.end = end\n",
    "        self.act_dic = [[-1,0], [1,0], [0,-1], [0,1]]  # 移动方向顺序: 上下左右\n",
    "    \n",
    "    \n",
    "    \n",
    "    def find_start(self):\n",
    "        \"\"\"\n",
    "        找到起点坐标\n",
    "        \"\"\"\n",
    "        for i in range(len(self.maze)):#row\n",
    "            for j in range(len(self.maze[0])):#列\n",
    "                if  self.maze[i][j] == self.start:\n",
    "                    return  [i,j]\n",
    "    \n",
    "    def find_end(self):\n",
    "        \"\"\"\n",
    "        找到终点坐标\n",
    "        \"\"\"\n",
    "        for i in range(len(self.maze)):#row\n",
    "            for j in range(len(self.maze[0])):#列\n",
    "                if  self.maze[i][j] == self.end:\n",
    "                    return  [i,j]     \n",
    "    \n",
    "    \n",
    "    def move(self, loc, act):\n",
    "        \"\"\"\n",
    "        执行迷宫的上下左右操作\n",
    "        :param loc: 起始坐标\n",
    "        :param act: 移动的方向\n",
    "        :return: 新的坐标\n",
    "        \"\"\"\n",
    "        return [loc[0] + act[0], loc[1] + act[1]]\n",
    " \n",
    "    def at(self, maze, loc):\n",
    "        \"\"\"\n",
    "        传入一个maze和坐标，判断坐标是否越界，如果没有越界根据坐标返回对应maze中的数值\n",
    "        :param grid: maze\n",
    "        :param x: 查找坐标\n",
    "        :return: maze中的数值和状态\n",
    "        \"\"\"\n",
    "        # 判断row 是否越界\n",
    "        if loc[0] < 0 or loc[0] >= len(maze):\n",
    "            return 0, False\n",
    "        # 判断col 是否越界\n",
    "        if loc[1] < 0 or loc[1] >= len(maze[0]):\n",
    "            return 0, False\n",
    "        return maze[loc[0]][loc[1]], True\n",
    " \n",
    "    def walk(self):\n",
    "        \"\"\"\n",
    "        创建一个新的二维数组，self.maze每走一步，就在这个新的二维数组对应位置上记录行走的步数\n",
    "        :return: 记录了行走步数的二维数组\n",
    "        \"\"\"\n",
    "        # 创建一个大小和self.maze一样大小的二维数组，此二维数组中所有的值初始化为0，用来记录行走的步数\n",
    "        steps = [[i * 0 for i in range(len(self.maze[0]))] for j in range(len(self.maze))]\n",
    " \n",
    "        Q = [self.find_start()]\n",
    "        end_point = self.find_end() \n",
    "        while len(Q) > 0:\n",
    "            index = Q[0]\n",
    "            # 找到出口\n",
    "            if index == end_point:\n",
    "                break\n",
    " \n",
    "            Q = Q[1:]\n",
    " \n",
    "            for d in self.act_dic:\n",
    "                next = self.move(index, d)\n",
    " \n",
    "                val, ok = self.at(self.maze, next)\n",
    " \n",
    "                # 越界或者撞墙，跳过\n",
    "                if not ok or val == 2:\n",
    "                    continue\n",
    " \n",
    "                # 新的二维数组中移动的下一个点如果值不是0的话，说明已经走过这个点，直接跳过\n",
    "                val, ok = self.at(steps, next)\n",
    "                if not ok or val != 0:\n",
    "                    continue\n",
    " \n",
    "                # 回到原点\n",
    "                if next == self.start:\n",
    "                    continue\n",
    " \n",
    "                # 将steps中每走一步，记录当前的步数\n",
    "                val, ok = self.at(steps, index)\n",
    "                if ok:\n",
    "                    steps[next[0]][next[1]] = val + 1\n",
    " \n",
    "                # 每走一步，将此时的位置加入到队列中\n",
    "                Q.append(next)\n",
    "        return steps\n",
    " \n",
    "    def path(self, grid):\n",
    "        \"\"\"\n",
    "        根据steps计算最优路径\n",
    "        :param grid: steps迷宫图\n",
    "        :return: 存放路径的列表\n",
    "        \"\"\"\n",
    "        last = grid[self.find_end()[0]][self.find_end()[1]]\n",
    "        lookup_path = [[self.find_end()[0], self.find_end()[1]], ]\n",
    " \n",
    "        while last > 1:\n",
    "            last -= 1\n",
    "            index = lookup_path[-1]\n",
    " \n",
    "            for d in self.act_dic:\n",
    "                next = self.move(index, d)\n",
    " \n",
    "                val, err = self.at(grid, next)\n",
    "                if val == last:\n",
    "                    lookup_path.append(next)\n",
    "                    break\n",
    " \n",
    "        return lookup_path\n",
    "\n",
    "\n",
    " \n",
    "if __name__ == '__main__':\n",
    "   \n",
    "\n",
    "    # 打印二维数组\n",
    "    print(\"原始迷宫图:\")\n",
    "    for k in env_data:\n",
    "        for v in k:\n",
    "            print(\"%2d\" % v, end=\" \")\n",
    "        print(\"\")\n",
    " \n",
    "    print(\"\\n\")\n",
    " \n",
    "    print(\"行走路线图:\")\n",
    "    step = Node(env_data, 1, 3)\n",
    "    steps = step.walk()\n",
    "    for k in steps:\n",
    "        for v in k:\n",
    "            print(\"%2d\" % v, end=\" \")\n",
    "        print(\"\")\n",
    " \n",
    "    print(\"\\n\")\n",
    "    \n",
    "    print(\"走出迷宫共需要%s步\\n\" % steps[0][0])\n",
    " \n",
    "    # 计算最优路径\n",
    "    path = step.path(steps)\n",
    "    path.reverse()\n",
    "    print(\"最优路径是: \", path)\n",
    "    \n",
    "        "
   ]
  },
  {
   "cell_type": "markdown",
   "metadata": {},
   "source": [
    "> 注意: 当你写完了所有的代码，并且回答了所有的问题。你就可以把你的 iPython Notebook 导出成 HTML 文件。你可以在菜单栏，这样导出**File -> Download as -> HTML (.html)**把这个 HTML 和这个 iPython notebook 一起做为你的作业提交。"
   ]
  },
  {
   "cell_type": "code",
   "execution_count": null,
   "metadata": {
    "collapsed": true
   },
   "outputs": [],
   "source": []
  },
  {
   "cell_type": "code",
   "execution_count": null,
   "metadata": {
    "collapsed": true
   },
   "outputs": [],
   "source": []
  },
  {
   "cell_type": "code",
   "execution_count": null,
   "metadata": {
    "collapsed": true
   },
   "outputs": [],
   "source": []
  },
  {
   "cell_type": "code",
   "execution_count": null,
   "metadata": {
    "collapsed": true
   },
   "outputs": [],
   "source": []
  }
 ],
 "metadata": {
  "kernelspec": {
   "display_name": "Python 3",
   "language": "python",
   "name": "python3"
  },
  "language_info": {
   "codemirror_mode": {
    "name": "ipython",
    "version": 3
   },
   "file_extension": ".py",
   "mimetype": "text/x-python",
   "name": "python",
   "nbconvert_exporter": "python",
   "pygments_lexer": "ipython3",
   "version": "3.6.3"
  }
 },
 "nbformat": 4,
 "nbformat_minor": 2
}
